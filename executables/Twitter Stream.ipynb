{
 "cells": [
  {
   "cell_type": "code",
   "execution_count": 1,
   "metadata": {
    "collapsed": true
   },
   "outputs": [],
   "source": [
    "from tweepy import Stream\n",
    "from tweepy import OAuthHandler\n",
    "from tweepy.streaming import StreamListener\n",
    "from datetime import datetime\n",
    "import json"
   ]
  },
  {
   "cell_type": "code",
   "execution_count": 2,
   "metadata": {
    "collapsed": true
   },
   "outputs": [],
   "source": [
    "ckey=\"OqnOqKtWnYlpL39uD0I5zWpA2\"\n",
    "csecret=\"ROgVemhrECJ61yo8JycBlpKSaJ4v8qCxfHM5L5sr7PrenmWChe\"\n",
    "atoken=\"29701141-O6IigmJQ5hrZ2TUaA7crJ8QyrXUJGj77qH1ROjuGC\"\n",
    "asecret=\"This is a secret\""
   ]
  },
  {
   "cell_type": "code",
   "execution_count": 3,
   "metadata": {
    "collapsed": true
   },
   "outputs": [],
   "source": [
    "class Listener(StreamListener):\n",
    "        \n",
    "    def __init__(self, max_tweets=1, should_print=False, *args, **kwargs):\n",
    "        self.max_tweets = max_tweets\n",
    "        self.should_print = should_print\n",
    "        self.counter = 0\n",
    "        super().__init__(*args, **kwargs)\n",
    "    \n",
    "    def on_connect(self):\n",
    "        self.start_time = datetime.now()\n",
    "            \n",
    "    def on_status(self, status):\n",
    "        self.counter += 1\n",
    "        if self.counter > self.max_tweets:\n",
    "            self.counter = 0    \n",
    "            return False\n",
    "        if self.should_print:\n",
    "            self.print_json(status)\n",
    "        with open('../data/tweets.txt', 'a') as f:\n",
    "            json.dump(status._json, f)\n",
    "            f.write(' ')\n",
    "    \n",
    "    def on_error(self, status):\n",
    "        print(status)\n",
    "        if status == 420:\n",
    "            return False\n",
    "        \n",
    "    def print_json(self, status):\n",
    "        print(json.dumps(status._json, indent=2))"
   ]
  },
  {
   "cell_type": "code",
   "execution_count": 4,
   "metadata": {
    "collapsed": true
   },
   "outputs": [],
   "source": [
    "auth = OAuthHandler(ckey, csecret)\n",
    "auth.set_access_token(atoken, asecret)\n",
    "listener = Listener(max_tweets=2000)\n",
    "twitterStream = Stream(auth, listener)"
   ]
  },
  {
   "cell_type": "code",
   "execution_count": 5,
   "metadata": {
    "collapsed": true
   },
   "outputs": [],
   "source": [
    "twitterStream.filter(track=[\"cryptocurrency\", \"bitcoin\"])"
   ]
  },
  {
   "cell_type": "markdown",
   "metadata": {},
   "source": [
    "# Event Driven Programming\n",
    "1. Callback functions are run every time a user performs an action IE hits the reload.\n",
    "2. Create all functions in Listener class are callbacks to Stream class so every time a new tweet is received, it is filtered.\n",
    "3. Listener class inherits from StreamListener"
   ]
  }
 ],
 "metadata": {
  "kernelspec": {
   "display_name": "Python 3",
   "language": "python",
   "name": "python3"
  },
  "language_info": {
   "codemirror_mode": {
    "name": "ipython",
    "version": 3
   },
   "file_extension": ".py",
   "mimetype": "text/x-python",
   "name": "python",
   "nbconvert_exporter": "python",
   "pygments_lexer": "ipython3",
   "version": "3.6.1"
  }
 },
 "nbformat": 4,
 "nbformat_minor": 2
}
